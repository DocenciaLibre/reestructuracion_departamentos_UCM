{
 "metadata": {
  "name": "",
  "signature": "sha256:34b7c5870ddc4e595fd1aec12160f0ca4bda7e2b075491a2827efbff5ce0d124"
 },
 "nbformat": 3,
 "nbformat_minor": 0,
 "worksheets": [
  {
   "cells": [
    {
     "cell_type": "code",
     "collapsed": false,
     "input": [
      "import os\n",
      "import urllib\n",
      "urllib.urlretrieve (\"https://www.ucm.es/data/cont/media/www/pag-53249/PLANTILLA%20DOCENTE%20POR%20DPTOS.pdf\", \"plantilla.pdf\")\n",
      "\n",
      "os.system('pdftotext -layout plantilla.pdf plantilla.txt')\n",
      "\n",
      "with open('plantilla.txt') as f:\n",
      "    text = f.readlines()\n",
      "    \n",
      "digits = map(lambda d:\n",
      " str(d), range(10))\n",
      "\n",
      "horas = []\n",
      "for line in text:\n",
      "    for n, char in enumerate(line):\n",
      "        if char in digits:\n",
      "            horas.append(int(line[n:n + 5]))\n",
      "            break\n",
      "            \n",
      "print horas\n",
      "horas_totales = sum(horas)\n",
      "print 'TOTAL HORAS UCM: %s' %sum(horas)"
     ],
     "language": "python",
     "metadata": {},
     "outputs": [
      {
       "output_type": "stream",
       "stream": "stdout",
       "text": [
        "[4072, 4544, 4538, 2690, 2417, 1899, 3002, 5531, 8720, 8096, 4001, 4518, 6294, 2690, 8652, 4229, 5428, 2703, 2916, 2717, 8020, 3188, 5426, 22226, 7631, 8247, 6230, 3392, 5293, 4982, 6939, 10570, 7564, 9220, 2160, 4014, 7289, 4582, 5728, 2169, 7655, 8460, 4248, 5892, 3033, 4375, 3901, 7128, 4010, 4380, 3945, 2695, 3710, 3425, 2292, 4185, 7448, 4704, 927, 15074, 6240, 7385, 4702, 3951, 6086, 4193, 6123, 8045, 3577, 2935, 2273, 5870, 7131, 5600, 4836, 4603, 6636, 3180, 3068, 4457, 4135, 11237, 4393, 2899, 4306, 8455, 5954, 3167, 3841, 2294, 3211, 2576, 3558, 2141, 4553, 1691, 2275, 5702, 6999, 3769, 5657, 4865, 4291, 6618, 4217, 3203, 3015, 4973, 1905, 1754, 3267, 3707, 4479, 5905, 7525, 2595, 3340, 1700, 1085, 2320, 3232, 6459, 6516, 7988, 2064, 5813, 3122, 8661, 28582, 5235, 10380, 4211, 5775, 2990, 4214, 3993, 4357, 6520, 2973, 2856, 6028, 9041, 5441, 8586, 10857, 3637, 2851, 24046, 3315, 5048, 4397, 2220, 7247, 5360, 4546, 9300, 3005, 8688, 4993, 4018, 7954, 9291, 6380, 1030, 6630, 6727, 2386, 6234, 2566, 8328, 4445, 5516, 9132, 9333, 3260, 2120, 4298, 8905, 5195, 4875, 4030, 6191, 8834, 9125, 6332, 7517]\n",
        "TOTAL HORAS UCM: 1005681\n"
       ]
      }
     ],
     "prompt_number": 1
    },
    {
     "cell_type": "code",
     "collapsed": false,
     "input": [
      "nuevas_exenciones = 20 * (12 + 10 + 9) + 28 * (9 + 8 + 7) + 24 * (9 + 7)\n",
      "viejas_exenciones = 185 * ( 9 + 7)\n",
      "horas_liberadas_exenciones = (viejas_exenciones - nuevas_exenciones) * 10\n",
      "horas_liberadas_exenciones"
     ],
     "language": "python",
     "metadata": {},
     "outputs": [
      {
       "metadata": {},
       "output_type": "pyout",
       "prompt_number": 2,
       "text": [
        "12840"
       ]
      }
     ],
     "prompt_number": 2
    },
    {
     "cell_type": "code",
     "collapsed": false,
     "input": [
      "#porcentaje de mejora de la capacidad docente\n",
      "porcentaje_mejora_exenciones = round(100 * float(horas_liberadas_exenciones) / horas_totales, 2)"
     ],
     "language": "python",
     "metadata": {},
     "outputs": [],
     "prompt_number": 3
    },
    {
     "cell_type": "code",
     "collapsed": false,
     "input": [
      "#reducci\u00f3n coste cargos frente a presupuesto UCM\n",
      "round(1187098.758 / 518127373.23 * 100, 2)\n"
     ],
     "language": "python",
     "metadata": {},
     "outputs": [
      {
       "metadata": {},
       "output_type": "pyout",
       "prompt_number": 4,
       "text": [
        "0.23"
       ]
      }
     ],
     "prompt_number": 4
    },
    {
     "cell_type": "code",
     "collapsed": false,
     "input": [
      "#c\u00e1lculo del ahorro de sab\u00e1ticos\n",
      "#suponemos que los directores nuevos tienen sab\u00e1ticos\n",
      "#los subdirectores de los departamentos grandes suponemos que tambi\u00e9n\n",
      "#dado que tienen 10 cr\u00e9ditos de exenci\u00f3n docente\n",
      "\n",
      "sabaticos_liberados = 185 - (20 * 2 + 28 + 24)"
     ],
     "language": "python",
     "metadata": {},
     "outputs": [],
     "prompt_number": 5
    },
    {
     "cell_type": "code",
     "collapsed": false,
     "input": [
      "horas_liberadas_por_sabaticos = (sabaticos_liberados / 5.) * 240"
     ],
     "language": "python",
     "metadata": {},
     "outputs": [],
     "prompt_number": 6
    },
    {
     "cell_type": "code",
     "collapsed": false,
     "input": [
      "porcentaje_liberado_sabaticos = horas_liberadas_por_sabaticos / horas_totales * 100"
     ],
     "language": "python",
     "metadata": {},
     "outputs": [],
     "prompt_number": 7
    },
    {
     "cell_type": "code",
     "collapsed": false,
     "input": [
      "porcentaje_mejora_exenciones + porcentaje_liberado_sabaticos"
     ],
     "language": "python",
     "metadata": {},
     "outputs": [
      {
       "metadata": {},
       "output_type": "pyout",
       "prompt_number": 8,
       "text": [
        "1.723878327223046"
       ]
      }
     ],
     "prompt_number": 8
    }
   ],
   "metadata": {}
  }
 ]
}